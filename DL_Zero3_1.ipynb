{
  "nbformat": 4,
  "nbformat_minor": 0,
  "metadata": {
    "colab": {
      "name": "DL_Zero3_1.ipynb",
      "provenance": [],
      "toc_visible": true,
      "authorship_tag": "ABX9TyPxgV/8TJ2tXqcPknXC/aUC",
      "include_colab_link": true
    },
    "kernelspec": {
      "name": "python3",
      "display_name": "Python 3"
    },
    "language_info": {
      "name": "python"
    }
  },
  "cells": [
    {
      "cell_type": "markdown",
      "metadata": {
        "id": "view-in-github",
        "colab_type": "text"
      },
      "source": [
        "<a href=\"https://colab.research.google.com/github/sota1111/DL_Zero3/blob/main/DL_Zero3_1.ipynb\" target=\"_parent\"><img src=\"https://colab.research.google.com/assets/colab-badge.svg\" alt=\"Open In Colab\"/></a>"
      ]
    },
    {
      "cell_type": "code",
      "source": [
        "from google.colab import drive\n",
        "drive.mount('/content/drive')\n",
        "\n",
        "import os, sys\n",
        "os.chdir('/content/drive/MyDrive/DL_Zero')\n",
        "\n",
        "#!git clone https://github.com/sota1111/DL_Zero3.git"
      ],
      "metadata": {
        "colab": {
          "base_uri": "https://localhost:8080/"
        },
        "id": "QwDnKGwkVJky",
        "outputId": "fb67bbe0-f784-49ca-9623-b442a206f62b"
      },
      "execution_count": null,
      "outputs": [
        {
          "output_type": "stream",
          "name": "stdout",
          "text": [
            "Mounted at /content/drive\n"
          ]
        }
      ]
    },
    {
      "cell_type": "code",
      "source": [
        "!git config --global user.email \"sota.moro@gmail.com\"\n",
        "!git config --global user.name \"sota1111\""
      ],
      "metadata": {
        "id": "ryVRQ8VzTELO"
      },
      "execution_count": null,
      "outputs": []
    },
    {
      "cell_type": "markdown",
      "source": [
        "# stage1 微分を自動で求める"
      ],
      "metadata": {
        "id": "on7W2uV0lZIO"
      }
    },
    {
      "cell_type": "markdown",
      "source": [
        "## step1 箱としての変数"
      ],
      "metadata": {
        "id": "VNvQJndQlwzz"
      }
    },
    {
      "cell_type": "code",
      "execution_count": null,
      "metadata": {
        "id": "qgVVSA5Uil9m"
      },
      "outputs": [],
      "source": [
        "class Variable:\n",
        "  def __init__(self, data):\n",
        "    self.data = data"
      ]
    },
    {
      "cell_type": "code",
      "source": [
        "import numpy as np\n",
        "\n",
        "data = np.array(1.0)\n",
        "x = Variable(data)\n",
        "print(x.data)"
      ],
      "metadata": {
        "colab": {
          "base_uri": "https://localhost:8080/"
        },
        "id": "_Elg7gLYj2YG",
        "outputId": "064ed7c3-ea6f-42d7-a093-78c4ad668a42"
      },
      "execution_count": null,
      "outputs": [
        {
          "output_type": "stream",
          "name": "stdout",
          "text": [
            "1.0\n"
          ]
        }
      ]
    },
    {
      "cell_type": "code",
      "source": [
        "x.data = np.array(2.0)\n",
        "print(x.data)"
      ],
      "metadata": {
        "colab": {
          "base_uri": "https://localhost:8080/"
        },
        "id": "sLolVMibkC2q",
        "outputId": "ea26d5e0-f57a-446f-fb9a-daf716ccaddb"
      },
      "execution_count": null,
      "outputs": [
        {
          "output_type": "stream",
          "name": "stdout",
          "text": [
            "2.0\n"
          ]
        }
      ]
    },
    {
      "cell_type": "code",
      "source": [
        "import numpy as np\n",
        "x = np.array(1)\n",
        "x.ndim"
      ],
      "metadata": {
        "colab": {
          "base_uri": "https://localhost:8080/"
        },
        "id": "XJRq8sX6kHro",
        "outputId": "ec2607b0-8a91-4a23-90f0-86c85e717d28"
      },
      "execution_count": null,
      "outputs": [
        {
          "output_type": "execute_result",
          "data": {
            "text/plain": [
              "0"
            ]
          },
          "metadata": {},
          "execution_count": 6
        }
      ]
    },
    {
      "cell_type": "code",
      "source": [
        "x = np.array([1, 2, 3])\n",
        "x.ndim"
      ],
      "metadata": {
        "colab": {
          "base_uri": "https://localhost:8080/"
        },
        "id": "GcOaHfqnkJNW",
        "outputId": "34ebe72b-9d4f-483e-d20f-f3e81bf2f099"
      },
      "execution_count": null,
      "outputs": [
        {
          "output_type": "execute_result",
          "data": {
            "text/plain": [
              "1"
            ]
          },
          "metadata": {},
          "execution_count": 7
        }
      ]
    },
    {
      "cell_type": "code",
      "source": [
        "x = np.array([[1,2,3],[4,5,6]])\n",
        "x.ndim"
      ],
      "metadata": {
        "colab": {
          "base_uri": "https://localhost:8080/"
        },
        "id": "hESxCHPVktVn",
        "outputId": "28031df5-ecb9-45c8-bfc7-33053a597c9d"
      },
      "execution_count": null,
      "outputs": [
        {
          "output_type": "execute_result",
          "data": {
            "text/plain": [
              "2"
            ]
          },
          "metadata": {},
          "execution_count": 8
        }
      ]
    },
    {
      "cell_type": "markdown",
      "source": [
        "## step2 変数を生み出す関数"
      ],
      "metadata": {
        "id": "Tgckt77Kl7Tu"
      }
    },
    {
      "cell_type": "code",
      "source": [
        "class Function:\n",
        "  def __call__(self, input):\n",
        "    x = input.data #データを取り出す\n",
        "    y = x ** 2\n",
        "    output = Variable(y) #Varibleとして取り出す\n",
        "    return output"
      ],
      "metadata": {
        "id": "LEUU3QRUlGTC"
      },
      "execution_count": null,
      "outputs": []
    },
    {
      "cell_type": "code",
      "source": [
        "x = Variable(np.array(10))\n",
        "f = Function()\n",
        "y = f(x)\n",
        "\n",
        "print(type(y))\n",
        "print(y.data)"
      ],
      "metadata": {
        "colab": {
          "base_uri": "https://localhost:8080/"
        },
        "id": "Abcl1uaipDUi",
        "outputId": "28e63763-2e8b-4e68-baa9-717a35ebe13c"
      },
      "execution_count": null,
      "outputs": [
        {
          "output_type": "stream",
          "name": "stdout",
          "text": [
            "<class '__main__.Variable'>\n",
            "100\n"
          ]
        }
      ]
    },
    {
      "cell_type": "code",
      "source": [
        "class Function:\n",
        "  def __call__(self, input):\n",
        "    x = input.data\n",
        "    y = self.forward(x)\n",
        "    output = Variable(y)\n",
        "    return output\n",
        "\n",
        "  def forward(self, x):\n",
        "    raise NotImplementedError()"
      ],
      "metadata": {
        "id": "kI5Rm1dypZ9x"
      },
      "execution_count": null,
      "outputs": []
    },
    {
      "cell_type": "code",
      "source": [
        "class Square(Function):\n",
        "  def forward(self, x):\n",
        "    return x ** 2"
      ],
      "metadata": {
        "id": "UQUrPdx0qGC4"
      },
      "execution_count": null,
      "outputs": []
    },
    {
      "cell_type": "code",
      "source": [
        "x = Variable(np.array(10))\n",
        "f = Square()\n",
        "y = f(x)\n",
        "print(type(y))\n",
        "print(y.data)"
      ],
      "metadata": {
        "colab": {
          "base_uri": "https://localhost:8080/"
        },
        "id": "qGiSOSHyqZJq",
        "outputId": "e8106523-9516-4eec-813c-4662c2b2d7fb"
      },
      "execution_count": null,
      "outputs": [
        {
          "output_type": "stream",
          "name": "stdout",
          "text": [
            "<class '__main__.Variable'>\n",
            "100\n"
          ]
        }
      ]
    },
    {
      "cell_type": "markdown",
      "source": [
        "## step3 関数の連結"
      ],
      "metadata": {
        "id": "B_pEArD_sEZC"
      }
    },
    {
      "cell_type": "code",
      "source": [
        "class Exp(Function):\n",
        "  def forward(self, x):\n",
        "    return np.exp(x)"
      ],
      "metadata": {
        "id": "MTqnCt7Tqncr"
      },
      "execution_count": null,
      "outputs": []
    },
    {
      "cell_type": "code",
      "source": [
        "A = Square()\n",
        "B = Exp()\n",
        "C = Square()\n",
        "\n",
        "x = Variable(np.array(0.5))\n",
        "a = A(x)\n",
        "b = B(a)\n",
        "y = C(b)\n",
        "print(y.data)"
      ],
      "metadata": {
        "id": "-FltkMw8sI2t",
        "colab": {
          "base_uri": "https://localhost:8080/"
        },
        "outputId": "a43ac319-5f5e-4206-cc92-b5368bab04e6"
      },
      "execution_count": null,
      "outputs": [
        {
          "output_type": "stream",
          "name": "stdout",
          "text": [
            "1.648721270700128\n"
          ]
        }
      ]
    },
    {
      "cell_type": "markdown",
      "source": [
        "## step4 数値微分"
      ],
      "metadata": {
        "id": "IKwG1p4geRzz"
      }
    },
    {
      "cell_type": "code",
      "source": [
        "def numerical_diff(f, x, eps=1e-4):\n",
        "  x0 = Variable(x.data - eps)\n",
        "  x1 = Variable(x.data + eps)\n",
        "  y0 = f(x0)\n",
        "  y1 = f(x1)\n",
        "  return (y1.data - y0.data)/(2*eps)"
      ],
      "metadata": {
        "id": "3jOR1Fm4eCcJ"
      },
      "execution_count": null,
      "outputs": []
    },
    {
      "cell_type": "code",
      "source": [
        "f = Square()\n",
        "x = Variable(np.array(2.0))\n",
        "dy = numerical_diff(f, x)\n",
        "print(dy)"
      ],
      "metadata": {
        "colab": {
          "base_uri": "https://localhost:8080/"
        },
        "id": "b3qdPciMe8FE",
        "outputId": "e1a6e443-ee13-4e73-ccee-aa43bd425c6a"
      },
      "execution_count": null,
      "outputs": [
        {
          "output_type": "stream",
          "name": "stdout",
          "text": [
            "4.000000000004\n"
          ]
        }
      ]
    },
    {
      "cell_type": "code",
      "source": [
        "def f(x):\n",
        "  A = Square()\n",
        "  B = Exp()\n",
        "  C = Square()\n",
        "  return C(B(A(x)))\n",
        "\n",
        "x = Variable(np.array(0.5))\n",
        "dy = numerical_diff(f, x)\n",
        "print(dy)"
      ],
      "metadata": {
        "colab": {
          "base_uri": "https://localhost:8080/"
        },
        "id": "Mmj0xFGofJm4",
        "outputId": "b2d25c01-687c-4b82-b337-3bd7127500e0"
      },
      "execution_count": null,
      "outputs": [
        {
          "output_type": "stream",
          "name": "stdout",
          "text": [
            "3.2974426293330694\n"
          ]
        }
      ]
    },
    {
      "cell_type": "markdown",
      "source": [
        "## step5 バックプロパゲーションの理論"
      ],
      "metadata": {
        "id": "_9Z60r-jgXBS"
      }
    },
    {
      "cell_type": "code",
      "source": [
        ""
      ],
      "metadata": {
        "id": "SY14LWoof9lg"
      },
      "execution_count": null,
      "outputs": []
    },
    {
      "cell_type": "markdown",
      "source": [
        "## step6 手作業によるバックプロパゲーション"
      ],
      "metadata": {
        "id": "WefrN4qDrIFS"
      }
    },
    {
      "cell_type": "code",
      "source": [
        "class Variable:\n",
        "  def __init__(self, data):\n",
        "    self.data = data\n",
        "    self.grad = None"
      ],
      "metadata": {
        "id": "12gbr0uvrQ7q"
      },
      "execution_count": null,
      "outputs": []
    },
    {
      "cell_type": "code",
      "source": [
        "class Function:\n",
        "  def __call__(self, input):\n",
        "    x = input.data\n",
        "    y = self.forward(x)\n",
        "    output = Variable(y)\n",
        "    self.input = input # inputされた変数を覚える\n",
        "    return output\n",
        "\n",
        "    def forward(self, x):\n",
        "      raise NotImplementedError()\n",
        "\n",
        "    def backward(self, gy):\n",
        "      raise NotImplementedError()"
      ],
      "metadata": {
        "id": "-G-LQ-GArfO9"
      },
      "execution_count": null,
      "outputs": []
    },
    {
      "cell_type": "code",
      "source": [
        "class Square(Function):\n",
        "  def forward(self, x):\n",
        "    y = x ** 2\n",
        "    return y\n",
        "\n",
        "  def backward(self, gy):\n",
        "    x = self.input.data\n",
        "    gx = 2 * x * gy\n",
        "    return gx"
      ],
      "metadata": {
        "id": "AfBparBrsd3o"
      },
      "execution_count": null,
      "outputs": []
    },
    {
      "cell_type": "code",
      "source": [
        "class Exp(Function):\n",
        "  def forward(self, x):\n",
        "    y = np.exp(x)\n",
        "    return y\n",
        "  \n",
        "  def backward(self, gy):\n",
        "    x = self.input.data\n",
        "    gx = np.exp(x) * gy\n",
        "    return gx"
      ],
      "metadata": {
        "id": "nqrLVPwRtvn8"
      },
      "execution_count": null,
      "outputs": []
    },
    {
      "cell_type": "code",
      "source": [
        "A = Square()\n",
        "B = Exp()\n",
        "C = Square()\n",
        "\n",
        "x = Variable(np.array(0.5))\n",
        "a = A(x)\n",
        "b = B(a)\n",
        "y = C(b)"
      ],
      "metadata": {
        "id": "DvSM9zPrvj5t"
      },
      "execution_count": null,
      "outputs": []
    },
    {
      "cell_type": "code",
      "source": [
        "y.grad = np.array(1.0)\n",
        "b.grad = C.backward(y.grad)\n",
        "a.grad = B.backward(b.grad)\n",
        "x.grad = A.backward(a.grad)\n",
        "print(x.grad)"
      ],
      "metadata": {
        "colab": {
          "base_uri": "https://localhost:8080/"
        },
        "id": "wTiD01xuwxb4",
        "outputId": "fbdc9a84-c0e8-4f48-9a1b-6324903e152e"
      },
      "execution_count": null,
      "outputs": [
        {
          "output_type": "stream",
          "name": "stdout",
          "text": [
            "3.297442541400256\n"
          ]
        }
      ]
    },
    {
      "cell_type": "markdown",
      "source": [
        "## step7 バックプロパゲーションの自動化"
      ],
      "metadata": {
        "id": "Ynr6A15r1Hm1"
      }
    },
    {
      "cell_type": "markdown",
      "source": [
        "### 7.1 逆伝搬の自動化のために"
      ],
      "metadata": {
        "id": "D59_hIuwaeko"
      }
    },
    {
      "cell_type": "code",
      "source": [
        "class Variable:\n",
        "  def __init__(self, data):\n",
        "    self.data = data\n",
        "    self.grad = None\n",
        "    self.creator = None\n",
        "\n",
        "  def set_creator(self, func):\n",
        "    self.creator = func"
      ],
      "metadata": {
        "id": "BgeSx1yD1M0I"
      },
      "execution_count": null,
      "outputs": []
    },
    {
      "cell_type": "code",
      "source": [
        ""
      ],
      "metadata": {
        "id": "p6DOXv4GXF2C"
      },
      "execution_count": null,
      "outputs": []
    }
  ]
}